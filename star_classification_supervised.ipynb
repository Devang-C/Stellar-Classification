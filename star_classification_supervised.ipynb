{
 "cells": [
  {
   "cell_type": "markdown",
   "id": "ab32d69c-87c8-48c4-b914-c8b254c16fe1",
   "metadata": {},
   "source": [
    "Dataset link on kaggle: https://www.kaggle.com/datasets/fedesoriano/stellar-classification-dataset-sdss17/data\n",
    "\n",
    "## Context\n",
    "\n",
    "In astronomy, stellar classification is the classification of stars based on their spectral characteristics. The classification scheme of galaxies, quasars, and stars is one of the most fundamental in astronomy. The early cataloguing of stars and their distribution in the sky has led to the understanding that they make up our own galaxy and, following the distinction that Andromeda was a separate galaxy to our own, numerous galaxies began to be surveyed as more powerful telescopes were built. This datasat aims to classificate stars, galaxies, and quasars based on their spectral characteristics.\n",
    "\n",
    "## Content\n",
    "\n",
    "The data consists of 100,000 observations of space taken by the SDSS (Sloan Digital Sky Survey). Every observation is described by 17 feature columns and 1 class column which identifies it to be either a star, galaxy or quasar.\n",
    "\n",
    "    obj_ID = Object Identifier, the unique value that identifies the object in the image catalog used by the CAS\n",
    "    alpha = Right Ascension angle (at J2000 epoch)\n",
    "    delta = Declination angle (at J2000 epoch)\n",
    "    u = Ultraviolet filter in the photometric system\n",
    "    g = Green filter in the photometric system\n",
    "    r = Red filter in the photometric system\n",
    "    i = Near Infrared filter in the photometric system\n",
    "    z = Infrared filter in the photometric system\n",
    "    run_ID = Run Number used to identify the specific scan\n",
    "    rereun_ID = Rerun Number to specify how the image was processed\n",
    "    cam_col = Camera column to identify the scanline within the run\n",
    "    field_ID = Field number to identify each field\n",
    "    spec_obj_ID = Unique ID used for optical spectroscopic objects (this means that 2 different observations with the same spec_obj_ID must share the output class)\n",
    "    class = object class (galaxy, star or quasar object)\n",
    "    redshift = redshift value based on the increase in wavelength\n",
    "    plate = plate ID, identifies each plate in SDSS\n",
    "    MJD = Modified Julian Date, used to indicate when a given piece of SDSS data was taken\n",
    "    fiber_ID = fiber ID that identifies the fiber that pointed the light at the focal plane in each observation\n"
   ]
  },
  {
   "cell_type": "code",
   "execution_count": 1,
   "id": "39bf6e9d-b486-4d1f-8473-480170aec5b7",
   "metadata": {
    "tags": []
   },
   "outputs": [
    {
     "name": "stdout",
     "output_type": "stream",
     "text": [
      "Requirement already satisfied: imbalanced-learn in /home/devang/.var/app/org.jupyter.JupyterLab/config/jupyterlab-desktop/jlab_server/lib/python3.8/site-packages (0.11.0)\n",
      "Requirement already satisfied: scikit-learn>=1.0.2 in /home/devang/.var/app/org.jupyter.JupyterLab/config/jupyterlab-desktop/jlab_server/lib/python3.8/site-packages (from imbalanced-learn) (1.2.2)\n",
      "Requirement already satisfied: scipy>=1.5.0 in /home/devang/.var/app/org.jupyter.JupyterLab/config/jupyterlab-desktop/jlab_server/lib/python3.8/site-packages (from imbalanced-learn) (1.10.1)\n",
      "Requirement already satisfied: threadpoolctl>=2.0.0 in /home/devang/.var/app/org.jupyter.JupyterLab/config/jupyterlab-desktop/jlab_server/lib/python3.8/site-packages (from imbalanced-learn) (3.1.0)\n",
      "Requirement already satisfied: numpy>=1.17.3 in /home/devang/.var/app/org.jupyter.JupyterLab/config/jupyterlab-desktop/jlab_server/lib/python3.8/site-packages (from imbalanced-learn) (1.24.2)\n",
      "Requirement already satisfied: joblib>=1.1.1 in /home/devang/.var/app/org.jupyter.JupyterLab/config/jupyterlab-desktop/jlab_server/lib/python3.8/site-packages (from imbalanced-learn) (1.2.0)\n",
      "Note: you may need to restart the kernel to use updated packages.\n"
     ]
    }
   ],
   "source": [
    "pip install imbalanced-learn"
   ]
  },
  {
   "cell_type": "code",
   "execution_count": 2,
   "id": "9fa7c55a-5918-4b25-aa10-bff6b9bcde90",
   "metadata": {
    "tags": []
   },
   "outputs": [],
   "source": [
    "from warnings import filterwarnings\n",
    "filterwarnings(action='ignore')"
   ]
  },
  {
   "cell_type": "code",
   "execution_count": 3,
   "id": "9625df0a-939c-4753-a018-190511fc7f90",
   "metadata": {
    "tags": []
   },
   "outputs": [],
   "source": [
    "import numpy as np\n",
    "import pandas as pd\n",
    "import matplotlib.pyplot as plt\n",
    "import seaborn as sns\n",
    "\n",
    "from imblearn.over_sampling import SMOTE"
   ]
  },
  {
   "cell_type": "markdown",
   "id": "699779b3-fa55-45c5-86a3-27bf28665d46",
   "metadata": {},
   "source": [
    "# Loading the dataset and getting a overview"
   ]
  },
  {
   "cell_type": "code",
   "execution_count": 4,
   "id": "03819450-5894-4926-812b-dd335d0bde7a",
   "metadata": {
    "tags": []
   },
   "outputs": [],
   "source": [
    "data = pd.read_csv(\"star_classification.csv\")"
   ]
  },
  {
   "cell_type": "code",
   "execution_count": 5,
   "id": "85c9fd79-5a87-49ab-bfa9-4f124cac27a2",
   "metadata": {
    "tags": []
   },
   "outputs": [
    {
     "data": {
      "text/html": [
       "<div>\n",
       "<style scoped>\n",
       "    .dataframe tbody tr th:only-of-type {\n",
       "        vertical-align: middle;\n",
       "    }\n",
       "\n",
       "    .dataframe tbody tr th {\n",
       "        vertical-align: top;\n",
       "    }\n",
       "\n",
       "    .dataframe thead th {\n",
       "        text-align: right;\n",
       "    }\n",
       "</style>\n",
       "<table border=\"1\" class=\"dataframe\">\n",
       "  <thead>\n",
       "    <tr style=\"text-align: right;\">\n",
       "      <th></th>\n",
       "      <th>obj_ID</th>\n",
       "      <th>alpha</th>\n",
       "      <th>delta</th>\n",
       "      <th>u</th>\n",
       "      <th>g</th>\n",
       "      <th>r</th>\n",
       "      <th>i</th>\n",
       "      <th>z</th>\n",
       "      <th>run_ID</th>\n",
       "      <th>rerun_ID</th>\n",
       "      <th>cam_col</th>\n",
       "      <th>field_ID</th>\n",
       "      <th>spec_obj_ID</th>\n",
       "      <th>class</th>\n",
       "      <th>redshift</th>\n",
       "      <th>plate</th>\n",
       "      <th>MJD</th>\n",
       "      <th>fiber_ID</th>\n",
       "    </tr>\n",
       "  </thead>\n",
       "  <tbody>\n",
       "    <tr>\n",
       "      <th>0</th>\n",
       "      <td>1.237661e+18</td>\n",
       "      <td>135.689107</td>\n",
       "      <td>32.494632</td>\n",
       "      <td>23.87882</td>\n",
       "      <td>22.27530</td>\n",
       "      <td>20.39501</td>\n",
       "      <td>19.16573</td>\n",
       "      <td>18.79371</td>\n",
       "      <td>3606</td>\n",
       "      <td>301</td>\n",
       "      <td>2</td>\n",
       "      <td>79</td>\n",
       "      <td>6.543777e+18</td>\n",
       "      <td>GALAXY</td>\n",
       "      <td>0.634794</td>\n",
       "      <td>5812</td>\n",
       "      <td>56354</td>\n",
       "      <td>171</td>\n",
       "    </tr>\n",
       "    <tr>\n",
       "      <th>1</th>\n",
       "      <td>1.237665e+18</td>\n",
       "      <td>144.826101</td>\n",
       "      <td>31.274185</td>\n",
       "      <td>24.77759</td>\n",
       "      <td>22.83188</td>\n",
       "      <td>22.58444</td>\n",
       "      <td>21.16812</td>\n",
       "      <td>21.61427</td>\n",
       "      <td>4518</td>\n",
       "      <td>301</td>\n",
       "      <td>5</td>\n",
       "      <td>119</td>\n",
       "      <td>1.176014e+19</td>\n",
       "      <td>GALAXY</td>\n",
       "      <td>0.779136</td>\n",
       "      <td>10445</td>\n",
       "      <td>58158</td>\n",
       "      <td>427</td>\n",
       "    </tr>\n",
       "    <tr>\n",
       "      <th>2</th>\n",
       "      <td>1.237661e+18</td>\n",
       "      <td>142.188790</td>\n",
       "      <td>35.582444</td>\n",
       "      <td>25.26307</td>\n",
       "      <td>22.66389</td>\n",
       "      <td>20.60976</td>\n",
       "      <td>19.34857</td>\n",
       "      <td>18.94827</td>\n",
       "      <td>3606</td>\n",
       "      <td>301</td>\n",
       "      <td>2</td>\n",
       "      <td>120</td>\n",
       "      <td>5.152200e+18</td>\n",
       "      <td>GALAXY</td>\n",
       "      <td>0.644195</td>\n",
       "      <td>4576</td>\n",
       "      <td>55592</td>\n",
       "      <td>299</td>\n",
       "    </tr>\n",
       "    <tr>\n",
       "      <th>3</th>\n",
       "      <td>1.237663e+18</td>\n",
       "      <td>338.741038</td>\n",
       "      <td>-0.402828</td>\n",
       "      <td>22.13682</td>\n",
       "      <td>23.77656</td>\n",
       "      <td>21.61162</td>\n",
       "      <td>20.50454</td>\n",
       "      <td>19.25010</td>\n",
       "      <td>4192</td>\n",
       "      <td>301</td>\n",
       "      <td>3</td>\n",
       "      <td>214</td>\n",
       "      <td>1.030107e+19</td>\n",
       "      <td>GALAXY</td>\n",
       "      <td>0.932346</td>\n",
       "      <td>9149</td>\n",
       "      <td>58039</td>\n",
       "      <td>775</td>\n",
       "    </tr>\n",
       "    <tr>\n",
       "      <th>4</th>\n",
       "      <td>1.237680e+18</td>\n",
       "      <td>345.282593</td>\n",
       "      <td>21.183866</td>\n",
       "      <td>19.43718</td>\n",
       "      <td>17.58028</td>\n",
       "      <td>16.49747</td>\n",
       "      <td>15.97711</td>\n",
       "      <td>15.54461</td>\n",
       "      <td>8102</td>\n",
       "      <td>301</td>\n",
       "      <td>3</td>\n",
       "      <td>137</td>\n",
       "      <td>6.891865e+18</td>\n",
       "      <td>GALAXY</td>\n",
       "      <td>0.116123</td>\n",
       "      <td>6121</td>\n",
       "      <td>56187</td>\n",
       "      <td>842</td>\n",
       "    </tr>\n",
       "  </tbody>\n",
       "</table>\n",
       "</div>"
      ],
      "text/plain": [
       "         obj_ID       alpha      delta         u         g         r  \\\n",
       "0  1.237661e+18  135.689107  32.494632  23.87882  22.27530  20.39501   \n",
       "1  1.237665e+18  144.826101  31.274185  24.77759  22.83188  22.58444   \n",
       "2  1.237661e+18  142.188790  35.582444  25.26307  22.66389  20.60976   \n",
       "3  1.237663e+18  338.741038  -0.402828  22.13682  23.77656  21.61162   \n",
       "4  1.237680e+18  345.282593  21.183866  19.43718  17.58028  16.49747   \n",
       "\n",
       "          i         z  run_ID  rerun_ID  cam_col  field_ID   spec_obj_ID  \\\n",
       "0  19.16573  18.79371    3606       301        2        79  6.543777e+18   \n",
       "1  21.16812  21.61427    4518       301        5       119  1.176014e+19   \n",
       "2  19.34857  18.94827    3606       301        2       120  5.152200e+18   \n",
       "3  20.50454  19.25010    4192       301        3       214  1.030107e+19   \n",
       "4  15.97711  15.54461    8102       301        3       137  6.891865e+18   \n",
       "\n",
       "    class  redshift  plate    MJD  fiber_ID  \n",
       "0  GALAXY  0.634794   5812  56354       171  \n",
       "1  GALAXY  0.779136  10445  58158       427  \n",
       "2  GALAXY  0.644195   4576  55592       299  \n",
       "3  GALAXY  0.932346   9149  58039       775  \n",
       "4  GALAXY  0.116123   6121  56187       842  "
      ]
     },
     "execution_count": 5,
     "metadata": {},
     "output_type": "execute_result"
    }
   ],
   "source": [
    "data.head()"
   ]
  },
  {
   "cell_type": "code",
   "execution_count": 6,
   "id": "44c7ee02-d464-4fe4-bd61-0bf7122efd70",
   "metadata": {
    "tags": []
   },
   "outputs": [
    {
     "data": {
      "text/plain": [
       "Index(['obj_ID', 'alpha', 'delta', 'u', 'g', 'r', 'i', 'z', 'run_ID',\n",
       "       'rerun_ID', 'cam_col', 'field_ID', 'spec_obj_ID', 'class', 'redshift',\n",
       "       'plate', 'MJD', 'fiber_ID'],\n",
       "      dtype='object')"
      ]
     },
     "execution_count": 6,
     "metadata": {},
     "output_type": "execute_result"
    }
   ],
   "source": [
    "data.columns"
   ]
  },
  {
   "cell_type": "code",
   "execution_count": 7,
   "id": "859847dd-17e0-4a88-8d91-7af398a2c902",
   "metadata": {
    "tags": []
   },
   "outputs": [
    {
     "name": "stdout",
     "output_type": "stream",
     "text": [
      "<class 'pandas.core.frame.DataFrame'>\n",
      "RangeIndex: 100000 entries, 0 to 99999\n",
      "Data columns (total 18 columns):\n",
      " #   Column       Non-Null Count   Dtype  \n",
      "---  ------       --------------   -----  \n",
      " 0   obj_ID       100000 non-null  float64\n",
      " 1   alpha        100000 non-null  float64\n",
      " 2   delta        100000 non-null  float64\n",
      " 3   u            100000 non-null  float64\n",
      " 4   g            100000 non-null  float64\n",
      " 5   r            100000 non-null  float64\n",
      " 6   i            100000 non-null  float64\n",
      " 7   z            100000 non-null  float64\n",
      " 8   run_ID       100000 non-null  int64  \n",
      " 9   rerun_ID     100000 non-null  int64  \n",
      " 10  cam_col      100000 non-null  int64  \n",
      " 11  field_ID     100000 non-null  int64  \n",
      " 12  spec_obj_ID  100000 non-null  float64\n",
      " 13  class        100000 non-null  object \n",
      " 14  redshift     100000 non-null  float64\n",
      " 15  plate        100000 non-null  int64  \n",
      " 16  MJD          100000 non-null  int64  \n",
      " 17  fiber_ID     100000 non-null  int64  \n",
      "dtypes: float64(10), int64(7), object(1)\n",
      "memory usage: 13.7+ MB\n"
     ]
    }
   ],
   "source": [
    "data.info()"
   ]
  },
  {
   "cell_type": "code",
   "execution_count": 8,
   "id": "e6a062f9-4d36-40f2-8d37-68ab3ae838b3",
   "metadata": {
    "tags": []
   },
   "outputs": [
    {
     "data": {
      "text/plain": [
       "obj_ID         0\n",
       "alpha          0\n",
       "delta          0\n",
       "u              0\n",
       "g              0\n",
       "r              0\n",
       "i              0\n",
       "z              0\n",
       "run_ID         0\n",
       "rerun_ID       0\n",
       "cam_col        0\n",
       "field_ID       0\n",
       "spec_obj_ID    0\n",
       "class          0\n",
       "redshift       0\n",
       "plate          0\n",
       "MJD            0\n",
       "fiber_ID       0\n",
       "dtype: int64"
      ]
     },
     "execution_count": 8,
     "metadata": {},
     "output_type": "execute_result"
    }
   ],
   "source": [
    "# checking for null values if any\n",
    "data.isnull().sum()\n",
    "\n",
    "#looking at the output no null values are present in the dataset"
   ]
  },
  {
   "cell_type": "code",
   "execution_count": 9,
   "id": "93057b30-743e-4ac1-9e57-381f0db673b2",
   "metadata": {
    "tags": []
   },
   "outputs": [],
   "source": [
    "# Removing the object ID column from the dataset as we won't be needing that for our classification purposes\n",
    "data.drop(['obj_ID'],axis=1,inplace=True)"
   ]
  },
  {
   "cell_type": "code",
   "execution_count": 10,
   "id": "97d5f6a9-fa11-42e2-81e4-e4d6809e4188",
   "metadata": {
    "tags": []
   },
   "outputs": [
    {
     "data": {
      "text/html": [
       "<div>\n",
       "<style scoped>\n",
       "    .dataframe tbody tr th:only-of-type {\n",
       "        vertical-align: middle;\n",
       "    }\n",
       "\n",
       "    .dataframe tbody tr th {\n",
       "        vertical-align: top;\n",
       "    }\n",
       "\n",
       "    .dataframe thead th {\n",
       "        text-align: right;\n",
       "    }\n",
       "</style>\n",
       "<table border=\"1\" class=\"dataframe\">\n",
       "  <thead>\n",
       "    <tr style=\"text-align: right;\">\n",
       "      <th></th>\n",
       "      <th>alpha</th>\n",
       "      <th>delta</th>\n",
       "      <th>u</th>\n",
       "      <th>g</th>\n",
       "      <th>r</th>\n",
       "      <th>i</th>\n",
       "      <th>z</th>\n",
       "      <th>run_ID</th>\n",
       "      <th>rerun_ID</th>\n",
       "      <th>cam_col</th>\n",
       "      <th>field_ID</th>\n",
       "      <th>spec_obj_ID</th>\n",
       "      <th>class</th>\n",
       "      <th>redshift</th>\n",
       "      <th>plate</th>\n",
       "      <th>MJD</th>\n",
       "      <th>fiber_ID</th>\n",
       "    </tr>\n",
       "  </thead>\n",
       "  <tbody>\n",
       "    <tr>\n",
       "      <th>0</th>\n",
       "      <td>135.689107</td>\n",
       "      <td>32.494632</td>\n",
       "      <td>23.87882</td>\n",
       "      <td>22.27530</td>\n",
       "      <td>20.39501</td>\n",
       "      <td>19.16573</td>\n",
       "      <td>18.79371</td>\n",
       "      <td>3606</td>\n",
       "      <td>301</td>\n",
       "      <td>2</td>\n",
       "      <td>79</td>\n",
       "      <td>6.543777e+18</td>\n",
       "      <td>GALAXY</td>\n",
       "      <td>0.634794</td>\n",
       "      <td>5812</td>\n",
       "      <td>56354</td>\n",
       "      <td>171</td>\n",
       "    </tr>\n",
       "    <tr>\n",
       "      <th>1</th>\n",
       "      <td>144.826101</td>\n",
       "      <td>31.274185</td>\n",
       "      <td>24.77759</td>\n",
       "      <td>22.83188</td>\n",
       "      <td>22.58444</td>\n",
       "      <td>21.16812</td>\n",
       "      <td>21.61427</td>\n",
       "      <td>4518</td>\n",
       "      <td>301</td>\n",
       "      <td>5</td>\n",
       "      <td>119</td>\n",
       "      <td>1.176014e+19</td>\n",
       "      <td>GALAXY</td>\n",
       "      <td>0.779136</td>\n",
       "      <td>10445</td>\n",
       "      <td>58158</td>\n",
       "      <td>427</td>\n",
       "    </tr>\n",
       "    <tr>\n",
       "      <th>2</th>\n",
       "      <td>142.188790</td>\n",
       "      <td>35.582444</td>\n",
       "      <td>25.26307</td>\n",
       "      <td>22.66389</td>\n",
       "      <td>20.60976</td>\n",
       "      <td>19.34857</td>\n",
       "      <td>18.94827</td>\n",
       "      <td>3606</td>\n",
       "      <td>301</td>\n",
       "      <td>2</td>\n",
       "      <td>120</td>\n",
       "      <td>5.152200e+18</td>\n",
       "      <td>GALAXY</td>\n",
       "      <td>0.644195</td>\n",
       "      <td>4576</td>\n",
       "      <td>55592</td>\n",
       "      <td>299</td>\n",
       "    </tr>\n",
       "    <tr>\n",
       "      <th>3</th>\n",
       "      <td>338.741038</td>\n",
       "      <td>-0.402828</td>\n",
       "      <td>22.13682</td>\n",
       "      <td>23.77656</td>\n",
       "      <td>21.61162</td>\n",
       "      <td>20.50454</td>\n",
       "      <td>19.25010</td>\n",
       "      <td>4192</td>\n",
       "      <td>301</td>\n",
       "      <td>3</td>\n",
       "      <td>214</td>\n",
       "      <td>1.030107e+19</td>\n",
       "      <td>GALAXY</td>\n",
       "      <td>0.932346</td>\n",
       "      <td>9149</td>\n",
       "      <td>58039</td>\n",
       "      <td>775</td>\n",
       "    </tr>\n",
       "    <tr>\n",
       "      <th>4</th>\n",
       "      <td>345.282593</td>\n",
       "      <td>21.183866</td>\n",
       "      <td>19.43718</td>\n",
       "      <td>17.58028</td>\n",
       "      <td>16.49747</td>\n",
       "      <td>15.97711</td>\n",
       "      <td>15.54461</td>\n",
       "      <td>8102</td>\n",
       "      <td>301</td>\n",
       "      <td>3</td>\n",
       "      <td>137</td>\n",
       "      <td>6.891865e+18</td>\n",
       "      <td>GALAXY</td>\n",
       "      <td>0.116123</td>\n",
       "      <td>6121</td>\n",
       "      <td>56187</td>\n",
       "      <td>842</td>\n",
       "    </tr>\n",
       "  </tbody>\n",
       "</table>\n",
       "</div>"
      ],
      "text/plain": [
       "        alpha      delta         u         g         r         i         z  \\\n",
       "0  135.689107  32.494632  23.87882  22.27530  20.39501  19.16573  18.79371   \n",
       "1  144.826101  31.274185  24.77759  22.83188  22.58444  21.16812  21.61427   \n",
       "2  142.188790  35.582444  25.26307  22.66389  20.60976  19.34857  18.94827   \n",
       "3  338.741038  -0.402828  22.13682  23.77656  21.61162  20.50454  19.25010   \n",
       "4  345.282593  21.183866  19.43718  17.58028  16.49747  15.97711  15.54461   \n",
       "\n",
       "   run_ID  rerun_ID  cam_col  field_ID   spec_obj_ID   class  redshift  plate  \\\n",
       "0    3606       301        2        79  6.543777e+18  GALAXY  0.634794   5812   \n",
       "1    4518       301        5       119  1.176014e+19  GALAXY  0.779136  10445   \n",
       "2    3606       301        2       120  5.152200e+18  GALAXY  0.644195   4576   \n",
       "3    4192       301        3       214  1.030107e+19  GALAXY  0.932346   9149   \n",
       "4    8102       301        3       137  6.891865e+18  GALAXY  0.116123   6121   \n",
       "\n",
       "     MJD  fiber_ID  \n",
       "0  56354       171  \n",
       "1  58158       427  \n",
       "2  55592       299  \n",
       "3  58039       775  \n",
       "4  56187       842  "
      ]
     },
     "execution_count": 10,
     "metadata": {},
     "output_type": "execute_result"
    }
   ],
   "source": [
    "data.head()"
   ]
  },
  {
   "cell_type": "markdown",
   "id": "c3aaf8ec-cd00-4b7f-a224-54bafa1d728c",
   "metadata": {},
   "source": [
    "# Vizualizing the Dataset"
   ]
  },
  {
   "cell_type": "code",
   "execution_count": 63,
   "id": "23144756-330b-4a97-b46b-c25875e7e617",
   "metadata": {
    "tags": []
   },
   "outputs": [
    {
     "data": {
      "image/png": "[encoded data removed]",
      "text/plain": [
       "<Figure size 600x600 with 1 Axes>"
      ]
     },
     "metadata": {},
     "output_type": "display_data"
    }
   ],
   "source": [
    "# Ploting a graph to find the distribution of the output classes\n",
    "plt.figure(figsize=(6,6))\n",
    "sns.countplot(x='class',data=data)\n",
    "plt.title(\"Distribution of classes\")\n",
    "plt.show()\n",
    "\n",
    "# looking at the output we see that our data is unbalanced and we will resample our data using resampling techniques such as SMOTE to oversample our data"
   ]
  },
  {
   "cell_type": "code",
   "execution_count": 12,
   "id": "ec8b634d-f5a0-4d68-97a0-a7977ceeeaad",
   "metadata": {
    "tags": []
   },
   "outputs": [
    {
     "data": {
      "image/png": "[encoded data removed]",
      "text/plain": [
       "<Figure size 640x480 with 1 Axes>"
      ]
     },
     "metadata": {},
     "output_type": "display_data"
    }
   ],
   "source": [
    "# Visuzalizing the alpha feature\n",
    "sns.histplot(data['alpha'],color='lightcoral')\n",
    "plt.title(\"Distribution of Alpha\")\n",
    "plt.show()"
   ]
  },
  {
   "cell_type": "code",
   "execution_count": 13,
   "id": "5b286960-3be4-499b-ac26-0d45c4c80d85",
   "metadata": {
    "tags": []
   },
   "outputs": [
    {
     "data": {
      "image/png": "[encoded data removed]",
      "text/plain": [
       "<Figure size 640x480 with 1 Axes>"
      ]
     },
     "metadata": {},
     "output_type": "display_data"
    }
   ],
   "source": [
    "# Visualizing the delta feature\n",
    "sns.histplot(data['delta'],color='lightcoral')\n",
    "plt.title(\"Distribution of Delta\")\n",
    "plt.show()"
   ]
  },
  {
   "cell_type": "code",
   "execution_count": 14,
   "id": "d4d577ca-52d4-46f9-bc5c-ec6b2c1a1337",
   "metadata": {
    "tags": []
   },
   "outputs": [
    {
     "data": {
      "image/png": "[encoded data removed]",
      "text/plain": [
       "<Figure size 640x480 with 1 Axes>"
      ]
     },
     "metadata": {},
     "output_type": "display_data"
    }
   ],
   "source": [
    "sns.histplot(data['plate'],color='lightcoral')\n",
    "plt.title(\"Distribution of Plate\")\n",
    "plt.show()"
   ]
  },
  {
   "cell_type": "code",
   "execution_count": null,
   "id": "30abfe88-67f5-4d95-874a-007852686d59",
   "metadata": {},
   "outputs": [],
   "source": []
  },
  {
   "cell_type": "code",
   "execution_count": 15,
   "id": "071c5607-32c2-4fe8-be89-0217c9d83711",
   "metadata": {
    "tags": []
   },
   "outputs": [
    {
     "data": {
      "image/png": "[encoded data removed]",
      "text/plain": [
       "<Figure size 1000x800 with 2 Axes>"
      ]
     },
     "metadata": {},
     "output_type": "display_data"
    }
   ],
   "source": [
    "# finding the correlation of the dataset\n",
    "corr_matrix = data.corr()\n",
    "plt.figure(figsize=(10,8))\n",
    "sns.heatmap(corr_matrix, annot=True,cmap='coolwarm')\n",
    "plt.show()"
   ]
  },
  {
   "cell_type": "code",
   "execution_count": null,
   "id": "3906c728-0191-470d-9aa8-e81fd47a2f67",
   "metadata": {},
   "outputs": [],
   "source": [
    "    "
   ]
  },
  {
   "cell_type": "code",
   "execution_count": null,
   "id": "96a235c7-fd1c-41bf-9aef-95552b73e295",
   "metadata": {},
   "outputs": [],
   "source": []
  },
  {
   "cell_type": "markdown",
   "id": "1b500a46-e467-4f64-bdf8-8622ad4b2ed3",
   "metadata": {},
   "source": [
    "# Encoding our output variable to numerical"
   ]
  },
  {
   "cell_type": "code",
   "execution_count": 16,
   "id": "76ebef21-99e7-44c6-b12b-400c7b7e2b30",
   "metadata": {
    "tags": []
   },
   "outputs": [],
   "source": [
    "from sklearn.preprocessing import LabelEncoder\n",
    "le = LabelEncoder()\n",
    "\n",
    "data['class'] = le.fit_transform(data['class'])"
   ]
  },
  {
   "cell_type": "code",
   "execution_count": 17,
   "id": "2625539d-fc40-4794-929b-a1f971238655",
   "metadata": {
    "tags": []
   },
   "outputs": [
    {
     "data": {
      "text/plain": [
       "0    59445\n",
       "2    21594\n",
       "1    18961\n",
       "Name: class, dtype: int64"
      ]
     },
     "execution_count": 17,
     "metadata": {},
     "output_type": "execute_result"
    }
   ],
   "source": [
    "data['class'].value_counts()"
   ]
  },
  {
   "cell_type": "code",
   "execution_count": null,
   "id": "b85af454-b08b-49f8-a57e-d61399598292",
   "metadata": {},
   "outputs": [],
   "source": []
  },
  {
   "cell_type": "markdown",
   "id": "68735613-bcd9-466e-a164-587b000b82ff",
   "metadata": {},
   "source": [
    "# Selecting necessary features for our classification model\n",
    "\n",
    "**We won't be selecting the below features as upon examining each of them, we find that they are more realted to the test setup rather than the actual test results themselves. So they won't be very helpful in our classificaiton model**\n",
    "\n",
    "- alpha = Right Ascension angle (at J2000 epoch)\n",
    "- delta = Declination angle (at J2000 epoch)\n",
    "- run_ID = Run Number used to identify the specific scan\n",
    "- rereun_ID = Rerun Number to specify how the image was processed-\n",
    "- cam_col = Camera column to identify the scanline within the run\n",
    "- field_ID = Field number to identify each field\n",
    "- spec_obj_ID = Unique ID used for optical spectroscopic objects (this means that 2 different observations with the same spec_obj_ID must share the output class)\n",
    "- MJD = Modified Julian Date, used to indicate when a given piece of SDSS data was taken\n",
    "- fiber_ID = fiber ID that identifies the fiber that pointed the light at the focal plane in each observation\n",
    "\n"
   ]
  },
  {
   "cell_type": "code",
   "execution_count": 18,
   "id": "c9946923-7abe-4528-b89d-773337abbfed",
   "metadata": {
    "tags": []
   },
   "outputs": [
    {
     "data": {
      "text/html": [
       "<div>\n",
       "<style scoped>\n",
       "    .dataframe tbody tr th:only-of-type {\n",
       "        vertical-align: middle;\n",
       "    }\n",
       "\n",
       "    .dataframe tbody tr th {\n",
       "        vertical-align: top;\n",
       "    }\n",
       "\n",
       "    .dataframe thead th {\n",
       "        text-align: right;\n",
       "    }\n",
       "</style>\n",
       "<table border=\"1\" class=\"dataframe\">\n",
       "  <thead>\n",
       "    <tr style=\"text-align: right;\">\n",
       "      <th></th>\n",
       "      <th>u</th>\n",
       "      <th>g</th>\n",
       "      <th>r</th>\n",
       "      <th>i</th>\n",
       "      <th>z</th>\n",
       "      <th>redshift</th>\n",
       "      <th>plate</th>\n",
       "    </tr>\n",
       "  </thead>\n",
       "  <tbody>\n",
       "    <tr>\n",
       "      <th>0</th>\n",
       "      <td>23.87882</td>\n",
       "      <td>22.27530</td>\n",
       "      <td>20.39501</td>\n",
       "      <td>19.16573</td>\n",
       "      <td>18.79371</td>\n",
       "      <td>0.634794</td>\n",
       "      <td>5812</td>\n",
       "    </tr>\n",
       "    <tr>\n",
       "      <th>1</th>\n",
       "      <td>24.77759</td>\n",
       "      <td>22.83188</td>\n",
       "      <td>22.58444</td>\n",
       "      <td>21.16812</td>\n",
       "      <td>21.61427</td>\n",
       "      <td>0.779136</td>\n",
       "      <td>10445</td>\n",
       "    </tr>\n",
       "    <tr>\n",
       "      <th>2</th>\n",
       "      <td>25.26307</td>\n",
       "      <td>22.66389</td>\n",
       "      <td>20.60976</td>\n",
       "      <td>19.34857</td>\n",
       "      <td>18.94827</td>\n",
       "      <td>0.644195</td>\n",
       "      <td>4576</td>\n",
       "    </tr>\n",
       "    <tr>\n",
       "      <th>3</th>\n",
       "      <td>22.13682</td>\n",
       "      <td>23.77656</td>\n",
       "      <td>21.61162</td>\n",
       "      <td>20.50454</td>\n",
       "      <td>19.25010</td>\n",
       "      <td>0.932346</td>\n",
       "      <td>9149</td>\n",
       "    </tr>\n",
       "    <tr>\n",
       "      <th>4</th>\n",
       "      <td>19.43718</td>\n",
       "      <td>17.58028</td>\n",
       "      <td>16.49747</td>\n",
       "      <td>15.97711</td>\n",
       "      <td>15.54461</td>\n",
       "      <td>0.116123</td>\n",
       "      <td>6121</td>\n",
       "    </tr>\n",
       "    <tr>\n",
       "      <th>...</th>\n",
       "      <td>...</td>\n",
       "      <td>...</td>\n",
       "      <td>...</td>\n",
       "      <td>...</td>\n",
       "      <td>...</td>\n",
       "      <td>...</td>\n",
       "      <td>...</td>\n",
       "    </tr>\n",
       "    <tr>\n",
       "      <th>99995</th>\n",
       "      <td>22.16759</td>\n",
       "      <td>22.97586</td>\n",
       "      <td>21.90404</td>\n",
       "      <td>21.30548</td>\n",
       "      <td>20.73569</td>\n",
       "      <td>0.000000</td>\n",
       "      <td>9374</td>\n",
       "    </tr>\n",
       "    <tr>\n",
       "      <th>99996</th>\n",
       "      <td>22.69118</td>\n",
       "      <td>22.38628</td>\n",
       "      <td>20.45003</td>\n",
       "      <td>19.75759</td>\n",
       "      <td>19.41526</td>\n",
       "      <td>0.404895</td>\n",
       "      <td>7626</td>\n",
       "    </tr>\n",
       "    <tr>\n",
       "      <th>99997</th>\n",
       "      <td>21.16916</td>\n",
       "      <td>19.26997</td>\n",
       "      <td>18.20428</td>\n",
       "      <td>17.69034</td>\n",
       "      <td>17.35221</td>\n",
       "      <td>0.143366</td>\n",
       "      <td>2764</td>\n",
       "    </tr>\n",
       "    <tr>\n",
       "      <th>99998</th>\n",
       "      <td>25.35039</td>\n",
       "      <td>21.63757</td>\n",
       "      <td>19.91386</td>\n",
       "      <td>19.07254</td>\n",
       "      <td>18.62482</td>\n",
       "      <td>0.455040</td>\n",
       "      <td>6751</td>\n",
       "    </tr>\n",
       "    <tr>\n",
       "      <th>99999</th>\n",
       "      <td>22.62171</td>\n",
       "      <td>21.79745</td>\n",
       "      <td>20.60115</td>\n",
       "      <td>20.00959</td>\n",
       "      <td>19.28075</td>\n",
       "      <td>0.542944</td>\n",
       "      <td>7410</td>\n",
       "    </tr>\n",
       "  </tbody>\n",
       "</table>\n",
       "<p>100000 rows × 7 columns</p>\n",
       "</div>"
      ],
      "text/plain": [
       "              u         g         r         i         z  redshift  plate\n",
       "0      23.87882  22.27530  20.39501  19.16573  18.79371  0.634794   5812\n",
       "1      24.77759  22.83188  22.58444  21.16812  21.61427  0.779136  10445\n",
       "2      25.26307  22.66389  20.60976  19.34857  18.94827  0.644195   4576\n",
       "3      22.13682  23.77656  21.61162  20.50454  19.25010  0.932346   9149\n",
       "4      19.43718  17.58028  16.49747  15.97711  15.54461  0.116123   6121\n",
       "...         ...       ...       ...       ...       ...       ...    ...\n",
       "99995  22.16759  22.97586  21.90404  21.30548  20.73569  0.000000   9374\n",
       "99996  22.69118  22.38628  20.45003  19.75759  19.41526  0.404895   7626\n",
       "99997  21.16916  19.26997  18.20428  17.69034  17.35221  0.143366   2764\n",
       "99998  25.35039  21.63757  19.91386  19.07254  18.62482  0.455040   6751\n",
       "99999  22.62171  21.79745  20.60115  20.00959  19.28075  0.542944   7410\n",
       "\n",
       "[100000 rows x 7 columns]"
      ]
     },
     "execution_count": 18,
     "metadata": {},
     "output_type": "execute_result"
    }
   ],
   "source": [
    "X = data[['u','g','r','i','z','redshift','plate']]\n",
    "X"
   ]
  },
  {
   "cell_type": "code",
   "execution_count": 19,
   "id": "3c276822-bd42-48a7-8091-c244cc5caf17",
   "metadata": {
    "tags": []
   },
   "outputs": [
    {
     "data": {
      "text/plain": [
       "0        0\n",
       "1        0\n",
       "2        0\n",
       "3        0\n",
       "4        0\n",
       "        ..\n",
       "99995    0\n",
       "99996    0\n",
       "99997    0\n",
       "99998    0\n",
       "99999    0\n",
       "Name: class, Length: 100000, dtype: int64"
      ]
     },
     "execution_count": 19,
     "metadata": {},
     "output_type": "execute_result"
    }
   ],
   "source": [
    "Y = data['class']\n",
    "Y"
   ]
  },
  {
   "cell_type": "markdown",
   "id": "4282e92f-b5d2-4248-b4d1-18f0c824202a",
   "metadata": {
    "tags": []
   },
   "source": [
    "# Resampling our dataset using SMOTE( Synthetic Minority Oversampling Technique )"
   ]
  },
  {
   "cell_type": "code",
   "execution_count": 20,
   "id": "b74c39d5-0bff-436b-a1bd-529ce01bce96",
   "metadata": {
    "tags": []
   },
   "outputs": [],
   "source": [
    "from imblearn.over_sampling import SMOTE\n",
    "\n",
    "sm = SMOTE(random_state=42,k_neighbors=5)\n",
    "X_res, Y_res = sm.fit_resample(X,Y)"
   ]
  },
  {
   "cell_type": "code",
   "execution_count": 21,
   "id": "845525c3-e9c1-4df1-b72b-91bb073ba50a",
   "metadata": {
    "tags": []
   },
   "outputs": [
    {
     "data": {
      "text/plain": [
       "0    59445\n",
       "1    59445\n",
       "2    59445\n",
       "Name: class, dtype: int64"
      ]
     },
     "execution_count": 21,
     "metadata": {},
     "output_type": "execute_result"
    }
   ],
   "source": [
    "Y_res.value_counts()"
   ]
  },
  {
   "cell_type": "markdown",
   "id": "d27d5e83-4ed4-47fa-a6dc-475ca4fa9bb0",
   "metadata": {},
   "source": [
    "# Performing Classification using Different Algorithms\n",
    "\n",
    "Now that our dataset is prepared, we can perform differnet classification algorithms on our dataset"
   ]
  },
  {
   "cell_type": "code",
   "execution_count": 22,
   "id": "54535bdf-b237-4aba-b30d-94a308d4ec61",
   "metadata": {
    "tags": []
   },
   "outputs": [],
   "source": [
    "# Splitting the data into train test split\n",
    "\n",
    "from sklearn.model_selection import train_test_split\n",
    "\n",
    "X_train,X_test,Y_train,Y_test = train_test_split(X_res,Y_res,test_size=0.20,random_state=42)"
   ]
  },
  {
   "cell_type": "code",
   "execution_count": 23,
   "id": "ddcb43fc-7f78-4a76-a6ba-f3ce23ddc2b0",
   "metadata": {
    "tags": []
   },
   "outputs": [
    {
     "data": {
      "text/plain": [
       "u           142668\n",
       "g           142668\n",
       "r           142668\n",
       "i           142668\n",
       "z           142668\n",
       "redshift    142668\n",
       "plate       142668\n",
       "dtype: int64"
      ]
     },
     "execution_count": 23,
     "metadata": {},
     "output_type": "execute_result"
    }
   ],
   "source": [
    "X_train.count()"
   ]
  },
  {
   "cell_type": "code",
   "execution_count": 24,
   "id": "ecfca33b-0425-4162-8a72-5c4565e9b24c",
   "metadata": {
    "tags": []
   },
   "outputs": [
    {
     "data": {
      "text/plain": [
       "u           35667\n",
       "g           35667\n",
       "r           35667\n",
       "i           35667\n",
       "z           35667\n",
       "redshift    35667\n",
       "plate       35667\n",
       "dtype: int64"
      ]
     },
     "execution_count": 24,
     "metadata": {},
     "output_type": "execute_result"
    }
   ],
   "source": [
    "X_test.count()"
   ]
  },
  {
   "cell_type": "markdown",
   "id": "21adaa41-fd4a-4e87-9fcd-82168e1fae34",
   "metadata": {},
   "source": [
    "# Implementing vairous Classification algorithms"
   ]
  },
  {
   "cell_type": "code",
   "execution_count": 25,
   "id": "dc9f4969-07d7-4a35-81f5-4ee6f164f691",
   "metadata": {
    "tags": []
   },
   "outputs": [],
   "source": [
    "scores_df = pd.DataFrame(columns=['Algorithm','Accuracy','Recall','Precision'])"
   ]
  },
  {
   "cell_type": "markdown",
   "id": "2f875aed-9c28-4295-853d-5abe3cbfe31b",
   "metadata": {},
   "source": [
    "## Logistic Regression"
   ]
  },
  {
   "cell_type": "code",
   "execution_count": 26,
   "id": "52c1898a-acf6-40dc-9170-cf32cfe8078e",
   "metadata": {
    "tags": []
   },
   "outputs": [],
   "source": [
    "from sklearn.linear_model import LogisticRegression\n",
    "# from sklearn.metrics import classification_report,accuracy_score\n",
    "from sklearn.metrics import accuracy_score, precision_score, recall_score"
   ]
  },
  {
   "cell_type": "code",
   "execution_count": 27,
   "id": "d2ce8a6d-4c7d-4f2c-bc5b-c7712f186226",
   "metadata": {
    "tags": []
   },
   "outputs": [],
   "source": [
    "lr = LogisticRegression(max_iter=1000)\n",
    "\n",
    "# fit model to training data\n",
    "lr.fit(X_train,Y_train)\n",
    "\n",
    "# make predictions on the test data\n",
    "lr_predictions = lr.predict(X_test)"
   ]
  },
  {
   "cell_type": "code",
   "execution_count": 28,
   "id": "2565e9b6-155f-4fdf-9608-5bc48082c8a4",
   "metadata": {
    "tags": []
   },
   "outputs": [
    {
     "data": {
      "text/plain": [
       "0.93321557742451"
      ]
     },
     "execution_count": 28,
     "metadata": {},
     "output_type": "execute_result"
    }
   ],
   "source": [
    "# Evaluate model's accuracy\n",
    "lr_accuracy = accuracy_score(Y_test,lr_predictions)\n",
    "lr_accuracy"
   ]
  },
  {
   "cell_type": "code",
   "execution_count": 29,
   "id": "a3e80cd6-c320-4b5b-81a0-8165db3acdfc",
   "metadata": {
    "tags": []
   },
   "outputs": [
    {
     "data": {
      "text/plain": [
       "0.93321557742451"
      ]
     },
     "execution_count": 29,
     "metadata": {},
     "output_type": "execute_result"
    }
   ],
   "source": [
    "lr_recall = recall_score(Y_test,lr_predictions,average='weighted')\n",
    "lr_recall"
   ]
  },
  {
   "cell_type": "code",
   "execution_count": 30,
   "id": "def45b35-9029-4190-91fd-04e61e151753",
   "metadata": {
    "tags": []
   },
   "outputs": [
    {
     "data": {
      "text/plain": [
       "0.9331399243882114"
      ]
     },
     "execution_count": 30,
     "metadata": {},
     "output_type": "execute_result"
    }
   ],
   "source": [
    "lr_precision = precision_score(Y_test,lr_predictions,average='weighted')\n",
    "lr_precision"
   ]
  },
  {
   "cell_type": "code",
   "execution_count": 31,
   "id": "e751321c-b065-4117-baca-a386aef97689",
   "metadata": {
    "tags": []
   },
   "outputs": [
    {
     "data": {
      "text/html": [
       "<div>\n",
       "<style scoped>\n",
       "    .dataframe tbody tr th:only-of-type {\n",
       "        vertical-align: middle;\n",
       "    }\n",
       "\n",
       "    .dataframe tbody tr th {\n",
       "        vertical-align: top;\n",
       "    }\n",
       "\n",
       "    .dataframe thead th {\n",
       "        text-align: right;\n",
       "    }\n",
       "</style>\n",
       "<table border=\"1\" class=\"dataframe\">\n",
       "  <thead>\n",
       "    <tr style=\"text-align: right;\">\n",
       "      <th></th>\n",
       "      <th>Algorithm</th>\n",
       "      <th>Accuracy</th>\n",
       "      <th>Recall</th>\n",
       "      <th>Precision</th>\n",
       "    </tr>\n",
       "  </thead>\n",
       "  <tbody>\n",
       "    <tr>\n",
       "      <th>0</th>\n",
       "      <td>Logistic Regression</td>\n",
       "      <td>0.933216</td>\n",
       "      <td>0.933216</td>\n",
       "      <td>0.93314</td>\n",
       "    </tr>\n",
       "  </tbody>\n",
       "</table>\n",
       "</div>"
      ],
      "text/plain": [
       "             Algorithm  Accuracy    Recall  Precision\n",
       "0  Logistic Regression  0.933216  0.933216    0.93314"
      ]
     },
     "execution_count": 31,
     "metadata": {},
     "output_type": "execute_result"
    }
   ],
   "source": [
    "# Adding the results to scores dataframe\n",
    "scores_df=scores_df.append({'Algorithm':'Logistic Regression','Accuracy':lr_accuracy,'Recall':lr_recall,'Precision':lr_precision},ignore_index=True)\n",
    "scores_df"
   ]
  },
  {
   "cell_type": "code",
   "execution_count": null,
   "id": "147a8f0f-382b-4fec-ac52-48604826102b",
   "metadata": {
    "tags": []
   },
   "outputs": [],
   "source": []
  },
  {
   "cell_type": "markdown",
   "id": "0fca6996-d8ef-4fa7-bb4c-e3280a1de343",
   "metadata": {},
   "source": [
    "## K-Nearest-Neighbours"
   ]
  },
  {
   "cell_type": "code",
   "execution_count": 32,
   "id": "f7f1deb4-a107-403e-a910-637e31ee9f3f",
   "metadata": {
    "tags": []
   },
   "outputs": [],
   "source": [
    "from sklearn.neighbors import KNeighborsClassifier\n",
    "from sklearn.metrics import accuracy_score, precision_score, recall_score"
   ]
  },
  {
   "cell_type": "code",
   "execution_count": 33,
   "id": "61940583-9726-428a-93b5-540e72603b16",
   "metadata": {
    "tags": []
   },
   "outputs": [],
   "source": [
    "knn = KNeighborsClassifier(n_neighbors=1)\n",
    "\n",
    "knn.fit(X_train,Y_train)\n",
    "\n",
    "knn_predictions= knn.predict(X_test)\n",
    "\n"
   ]
  },
  {
   "cell_type": "code",
   "execution_count": 34,
   "id": "e4e79ab1-8ff4-48ea-8003-2644166f6fb3",
   "metadata": {
    "tags": []
   },
   "outputs": [
    {
     "data": {
      "text/plain": [
       "0.9338884683320716"
      ]
     },
     "execution_count": 34,
     "metadata": {},
     "output_type": "execute_result"
    }
   ],
   "source": [
    "knn_accuracy = accuracy_score(Y_test,knn_predictions)\n",
    "knn_accuracy"
   ]
  },
  {
   "cell_type": "code",
   "execution_count": 35,
   "id": "fe12e6ae-d6a5-45db-9c26-fdb25b8a384b",
   "metadata": {
    "tags": []
   },
   "outputs": [
    {
     "data": {
      "text/plain": [
       "0.9337177450651136"
      ]
     },
     "execution_count": 35,
     "metadata": {},
     "output_type": "execute_result"
    }
   ],
   "source": [
    "knn_precision = precision_score(Y_test,knn_predictions,average='weighted')\n",
    "knn_precision"
   ]
  },
  {
   "cell_type": "code",
   "execution_count": 36,
   "id": "f24b464d-3b44-423e-8b3f-ad40c6070e8e",
   "metadata": {
    "tags": []
   },
   "outputs": [
    {
     "data": {
      "text/plain": [
       "0.9338884683320716"
      ]
     },
     "execution_count": 36,
     "metadata": {},
     "output_type": "execute_result"
    }
   ],
   "source": [
    "knn_recall = recall_score(Y_test,knn_predictions,average='weighted')\n",
    "knn_recall"
   ]
  },
  {
   "cell_type": "code",
   "execution_count": 37,
   "id": "1c540561-e71c-4fa5-aea9-d3c110485c00",
   "metadata": {
    "tags": []
   },
   "outputs": [
    {
     "name": "stdout",
     "output_type": "stream",
     "text": [
      "K = 1 - Accuracy: 0.9338884683320716, Precision: 0.9337177450651136, Recall: 0.9338884683320716\n",
      "K = 2 - Accuracy: 0.9152718198895338, Precision: 0.9181172020968438, Recall: 0.9152718198895338\n",
      "K = 3 - Accuracy: 0.9176830123082962, Precision: 0.9175522048871717, Recall: 0.9176830123082962\n",
      "K = 4 - Accuracy: 0.9073653517256848, Precision: 0.908994927469889, Recall: 0.9073653517256848\n",
      "K = 5 - Accuracy: 0.905627050214484, Precision: 0.9057852195994749, Recall: 0.905627050214484\n",
      "K = 6 - Accuracy: 0.8978888047775254, Precision: 0.8996389593020737, Recall: 0.8978888047775254\n",
      "K = 7 - Accuracy: 0.8964308744778087, Precision: 0.896858405462965, Recall: 0.8964308744778087\n",
      "K = 8 - Accuracy: 0.8904589676731993, Precision: 0.8923256695034082, Recall: 0.8904589676731993\n",
      "K = 9 - Accuracy: 0.8888047775254437, Precision: 0.889663267039826, Recall: 0.8888047775254437\n",
      "K = 10 - Accuracy: 0.8818515714806404, Precision: 0.8839781838982868, Recall: 0.8818515714806404\n"
     ]
    }
   ],
   "source": [
    "# Comparing various k values(neighbours) to find out which k gives us the best result\n",
    "\n",
    "# Define a range of k values from 1 to 10\n",
    "k_values = list(range(1, 11))\n",
    "\n",
    "# Create empty lists to store results\n",
    "accuracy_scores = []\n",
    "precision_scores = []\n",
    "recall_scores = []\n",
    "\n",
    "# Iterate over the range of k values\n",
    "for k in k_values:\n",
    "    knn = KNeighborsClassifier(n_neighbors=k)\n",
    "    knn.fit(X_train, Y_train)\n",
    "    Y_pred = knn.predict(X_test)\n",
    "    \n",
    "    accuracy = accuracy_score(Y_test, Y_pred)\n",
    "    precision = precision_score(Y_test, Y_pred, average='weighted')\n",
    "    recall = recall_score(Y_test, Y_pred, average='weighted')\n",
    "    \n",
    "    accuracy_scores.append(accuracy)\n",
    "    precision_scores.append(precision)\n",
    "    recall_scores.append(recall)\n",
    "\n",
    "# Print the results for each k value\n",
    "for i, k in enumerate(k_values):\n",
    "    print(f\"K = {k} - Accuracy: {accuracy_scores[i]}, Precision: {precision_scores[i]}, Recall: {recall_scores[i]}\")\n",
    "\n",
    "# From the output we can tell that for k=1 we got the best result, so we will move forward with it."
   ]
  },
  {
   "cell_type": "code",
   "execution_count": 38,
   "id": "f2c3c419-3c5a-4938-b9fb-e51c37633762",
   "metadata": {
    "tags": []
   },
   "outputs": [
    {
     "data": {
      "text/html": [
       "<div>\n",
       "<style scoped>\n",
       "    .dataframe tbody tr th:only-of-type {\n",
       "        vertical-align: middle;\n",
       "    }\n",
       "\n",
       "    .dataframe tbody tr th {\n",
       "        vertical-align: top;\n",
       "    }\n",
       "\n",
       "    .dataframe thead th {\n",
       "        text-align: right;\n",
       "    }\n",
       "</style>\n",
       "<table border=\"1\" class=\"dataframe\">\n",
       "  <thead>\n",
       "    <tr style=\"text-align: right;\">\n",
       "      <th></th>\n",
       "      <th>Algorithm</th>\n",
       "      <th>Accuracy</th>\n",
       "      <th>Recall</th>\n",
       "      <th>Precision</th>\n",
       "    </tr>\n",
       "  </thead>\n",
       "  <tbody>\n",
       "    <tr>\n",
       "      <th>0</th>\n",
       "      <td>Logistic Regression</td>\n",
       "      <td>0.933216</td>\n",
       "      <td>0.933216</td>\n",
       "      <td>0.933140</td>\n",
       "    </tr>\n",
       "    <tr>\n",
       "      <th>1</th>\n",
       "      <td>K-Nearest-Neighbours</td>\n",
       "      <td>0.933888</td>\n",
       "      <td>0.933888</td>\n",
       "      <td>0.933718</td>\n",
       "    </tr>\n",
       "  </tbody>\n",
       "</table>\n",
       "</div>"
      ],
      "text/plain": [
       "              Algorithm  Accuracy    Recall  Precision\n",
       "0   Logistic Regression  0.933216  0.933216   0.933140\n",
       "1  K-Nearest-Neighbours  0.933888  0.933888   0.933718"
      ]
     },
     "execution_count": 38,
     "metadata": {},
     "output_type": "execute_result"
    }
   ],
   "source": [
    "# Adding the results to scores dataframe\n",
    "scores_df=scores_df.append({'Algorithm':'K-Nearest-Neighbours','Accuracy':knn_accuracy,'Recall':knn_recall,'Precision':knn_precision},ignore_index=True)\n",
    "scores_df"
   ]
  },
  {
   "cell_type": "code",
   "execution_count": null,
   "id": "b0226b3c-da41-45f9-9463-85f99b240c53",
   "metadata": {},
   "outputs": [],
   "source": []
  },
  {
   "cell_type": "markdown",
   "id": "30d4da5c-d27b-4f53-8831-c2d7810d2691",
   "metadata": {},
   "source": [
    "## Descision Trees"
   ]
  },
  {
   "cell_type": "code",
   "execution_count": 39,
   "id": "6cff2167-dd69-4340-ad20-4275fca09d1b",
   "metadata": {},
   "outputs": [],
   "source": [
    "from sklearn.tree import DecisionTreeClassifier"
   ]
  },
  {
   "cell_type": "code",
   "execution_count": 40,
   "id": "ebe416da-56d4-462c-a141-2c5adaa8cbc2",
   "metadata": {},
   "outputs": [],
   "source": [
    "decision_tree = DecisionTreeClassifier(random_state=42)\n",
    "\n",
    "decision_tree.fit(X_train,Y_train)\n",
    "\n",
    "decision_tree_prediction = decision_tree.predict(X_test)\n"
   ]
  },
  {
   "cell_type": "code",
   "execution_count": 41,
   "id": "cddb3118-52ea-41c4-8d2d-43984d1ab198",
   "metadata": {},
   "outputs": [],
   "source": [
    "# Calculate accuracy, precision, and recall\n",
    "decision_tree_accuracy = accuracy_score(Y_test, decision_tree_prediction)\n"
   ]
  },
  {
   "cell_type": "code",
   "execution_count": 42,
   "id": "848ebdaa-3cfc-4ef9-aacf-b6f70362ca7f",
   "metadata": {},
   "outputs": [],
   "source": [
    "decision_tree_precision = precision_score(Y_test, decision_tree_prediction, average='weighted')\n"
   ]
  },
  {
   "cell_type": "code",
   "execution_count": 43,
   "id": "3434dd50-801c-4467-a642-1567422c297e",
   "metadata": {},
   "outputs": [],
   "source": [
    "decision_tree_recall = recall_score(Y_test, decision_tree_prediction, average='weighted')\n"
   ]
  },
  {
   "cell_type": "code",
   "execution_count": 44,
   "id": "3766395b-0164-4d21-b16a-06132605360b",
   "metadata": {},
   "outputs": [
    {
     "data": {
      "text/html": [
       "<div>\n",
       "<style scoped>\n",
       "    .dataframe tbody tr th:only-of-type {\n",
       "        vertical-align: middle;\n",
       "    }\n",
       "\n",
       "    .dataframe tbody tr th {\n",
       "        vertical-align: top;\n",
       "    }\n",
       "\n",
       "    .dataframe thead th {\n",
       "        text-align: right;\n",
       "    }\n",
       "</style>\n",
       "<table border=\"1\" class=\"dataframe\">\n",
       "  <thead>\n",
       "    <tr style=\"text-align: right;\">\n",
       "      <th></th>\n",
       "      <th>Algorithm</th>\n",
       "      <th>Accuracy</th>\n",
       "      <th>Recall</th>\n",
       "      <th>Precision</th>\n",
       "    </tr>\n",
       "  </thead>\n",
       "  <tbody>\n",
       "    <tr>\n",
       "      <th>0</th>\n",
       "      <td>Logistic Regression</td>\n",
       "      <td>0.933216</td>\n",
       "      <td>0.933216</td>\n",
       "      <td>0.933140</td>\n",
       "    </tr>\n",
       "    <tr>\n",
       "      <th>1</th>\n",
       "      <td>K-Nearest-Neighbours</td>\n",
       "      <td>0.933888</td>\n",
       "      <td>0.933888</td>\n",
       "      <td>0.933718</td>\n",
       "    </tr>\n",
       "    <tr>\n",
       "      <th>2</th>\n",
       "      <td>Decision Trees</td>\n",
       "      <td>0.972271</td>\n",
       "      <td>0.972271</td>\n",
       "      <td>0.972280</td>\n",
       "    </tr>\n",
       "  </tbody>\n",
       "</table>\n",
       "</div>"
      ],
      "text/plain": [
       "              Algorithm  Accuracy    Recall  Precision\n",
       "0   Logistic Regression  0.933216  0.933216   0.933140\n",
       "1  K-Nearest-Neighbours  0.933888  0.933888   0.933718\n",
       "2        Decision Trees  0.972271  0.972271   0.972280"
      ]
     },
     "execution_count": 44,
     "metadata": {},
     "output_type": "execute_result"
    }
   ],
   "source": [
    "scores_df=scores_df.append({'Algorithm':'Decision Trees','Accuracy':decision_tree_accuracy,'Recall':decision_tree_recall,'Precision':decision_tree_precision},ignore_index=True)\n",
    "scores_df"
   ]
  },
  {
   "cell_type": "markdown",
   "id": "b9416437-adba-4b61-965c-f95ecb2293ad",
   "metadata": {},
   "source": [
    "## Random Forest"
   ]
  },
  {
   "cell_type": "code",
   "execution_count": 45,
   "id": "7cf7d3e8-1f73-43d3-96b3-534a61f95b0f",
   "metadata": {},
   "outputs": [],
   "source": [
    "from sklearn.ensemble import RandomForestClassifier"
   ]
  },
  {
   "cell_type": "code",
   "execution_count": 46,
   "id": "0ce03ef4-15d2-4520-9120-75f3916b1ec7",
   "metadata": {},
   "outputs": [],
   "source": [
    "random_forest = RandomForestClassifier(n_estimators=20,random_state=42)\n",
    "\n",
    "random_forest.fit(X_train,Y_train)\n",
    "\n",
    "random_forest_prediction = random_forest.predict(X_test)"
   ]
  },
  {
   "cell_type": "code",
   "execution_count": 49,
   "id": "c4d20ca2-35b9-4782-bf61-a1168c7e79f8",
   "metadata": {},
   "outputs": [
    {
     "data": {
      "text/plain": [
       "0.9822805394342109"
      ]
     },
     "execution_count": 49,
     "metadata": {},
     "output_type": "execute_result"
    }
   ],
   "source": [
    "rf_accuracy = accuracy_score(Y_test,random_forest_prediction)\n",
    "rf_accuracy"
   ]
  },
  {
   "cell_type": "code",
   "execution_count": 52,
   "id": "c7fdb9d1-b52a-45a4-8ab9-f79f41f44c82",
   "metadata": {},
   "outputs": [
    {
     "data": {
      "text/plain": [
       "0.9822805394342109"
      ]
     },
     "execution_count": 52,
     "metadata": {},
     "output_type": "execute_result"
    }
   ],
   "source": [
    "rf_recall = recall_score(Y_test,random_forest_prediction,average='weighted')\n",
    "rf_recall"
   ]
  },
  {
   "cell_type": "code",
   "execution_count": 53,
   "id": "64ae77f2-fac4-4788-bfea-ee04bb8e7f26",
   "metadata": {},
   "outputs": [
    {
     "data": {
      "text/plain": [
       "0.9823321361598827"
      ]
     },
     "execution_count": 53,
     "metadata": {},
     "output_type": "execute_result"
    }
   ],
   "source": [
    "rf_precision = precision_score(Y_test,random_forest_prediction,average='weighted')\n",
    "rf_precision"
   ]
  },
  {
   "cell_type": "code",
   "execution_count": 54,
   "id": "408d9c88-28fe-489f-9593-11c9ca6d4bb4",
   "metadata": {},
   "outputs": [
    {
     "data": {
      "text/html": [
       "<div>\n",
       "<style scoped>\n",
       "    .dataframe tbody tr th:only-of-type {\n",
       "        vertical-align: middle;\n",
       "    }\n",
       "\n",
       "    .dataframe tbody tr th {\n",
       "        vertical-align: top;\n",
       "    }\n",
       "\n",
       "    .dataframe thead th {\n",
       "        text-align: right;\n",
       "    }\n",
       "</style>\n",
       "<table border=\"1\" class=\"dataframe\">\n",
       "  <thead>\n",
       "    <tr style=\"text-align: right;\">\n",
       "      <th></th>\n",
       "      <th>Algorithm</th>\n",
       "      <th>Accuracy</th>\n",
       "      <th>Recall</th>\n",
       "      <th>Precision</th>\n",
       "    </tr>\n",
       "  </thead>\n",
       "  <tbody>\n",
       "    <tr>\n",
       "      <th>0</th>\n",
       "      <td>Logistic Regression</td>\n",
       "      <td>0.933216</td>\n",
       "      <td>0.933216</td>\n",
       "      <td>0.933140</td>\n",
       "    </tr>\n",
       "    <tr>\n",
       "      <th>1</th>\n",
       "      <td>K-Nearest-Neighbours</td>\n",
       "      <td>0.933888</td>\n",
       "      <td>0.933888</td>\n",
       "      <td>0.933718</td>\n",
       "    </tr>\n",
       "    <tr>\n",
       "      <th>2</th>\n",
       "      <td>Decision Trees</td>\n",
       "      <td>0.972271</td>\n",
       "      <td>0.972271</td>\n",
       "      <td>0.972280</td>\n",
       "    </tr>\n",
       "    <tr>\n",
       "      <th>3</th>\n",
       "      <td>Random Forest</td>\n",
       "      <td>0.982281</td>\n",
       "      <td>0.982281</td>\n",
       "      <td>0.982332</td>\n",
       "    </tr>\n",
       "  </tbody>\n",
       "</table>\n",
       "</div>"
      ],
      "text/plain": [
       "              Algorithm  Accuracy    Recall  Precision\n",
       "0   Logistic Regression  0.933216  0.933216   0.933140\n",
       "1  K-Nearest-Neighbours  0.933888  0.933888   0.933718\n",
       "2        Decision Trees  0.972271  0.972271   0.972280\n",
       "3         Random Forest  0.982281  0.982281   0.982332"
      ]
     },
     "execution_count": 54,
     "metadata": {},
     "output_type": "execute_result"
    }
   ],
   "source": [
    "scores_df=scores_df.append({'Algorithm':'Random Forest','Accuracy':rf_accuracy,'Recall':rf_recall,'Precision':rf_precision},ignore_index=True)\n",
    "scores_df"
   ]
  },
  {
   "cell_type": "code",
   "execution_count": null,
   "id": "18235b0f-99bf-490b-8ab2-05c31a47443e",
   "metadata": {},
   "outputs": [],
   "source": []
  },
  {
   "cell_type": "code",
   "execution_count": null,
   "id": "f05799be-c971-4795-add1-d239eaff0a70",
   "metadata": {},
   "outputs": [],
   "source": []
  },
  {
   "cell_type": "code",
   "execution_count": null,
   "id": "f5f74780-b4f2-4a79-8051-8c56b7d39cdf",
   "metadata": {},
   "outputs": [],
   "source": []
  },
  {
   "cell_type": "code",
   "execution_count": null,
   "id": "f3204063-9b2d-4c9d-af02-b6ec39e1f503",
   "metadata": {},
   "outputs": [],
   "source": []
  }
 ],
 "metadata": {
  "kernelspec": {
   "display_name": "Python 3 (ipykernel)",
   "language": "python",
   "name": "python3"
  },
  "language_info": {
   "codemirror_mode": {
    "name": "ipython",
    "version": 3
   },
   "file_extension": ".py",
   "mimetype": "text/x-python",
   "name": "python",
   "nbconvert_exporter": "python",
   "pygments_lexer": "ipython3",
   "version": "3.8.16"
  }
 },
 "nbformat": 4,
 "nbformat_minor": 5
}
